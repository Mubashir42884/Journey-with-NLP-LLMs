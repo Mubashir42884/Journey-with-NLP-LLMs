{
 "cells": [
  {
   "cell_type": "markdown",
   "id": "5f22c13d",
   "metadata": {},
   "source": [
    "### Working with Text (.txt) files"
   ]
  },
  {
   "cell_type": "code",
   "execution_count": 1,
   "id": "31ce7375",
   "metadata": {},
   "outputs": [],
   "source": [
    "# Creating and writing a text file. (Only for Jupyter Notebook)"
   ]
  },
  {
   "cell_type": "code",
   "execution_count": 2,
   "id": "1622f6b7",
   "metadata": {},
   "outputs": [
    {
     "name": "stdout",
     "output_type": "stream",
     "text": [
      "Overwriting test.txt\n"
     ]
    }
   ],
   "source": [
    "%%writefile test.txt\n",
    "Hello world, my name is Mubashir.\n",
    "This is my part 2 of working with text.\n",
    "I hope to learn more.\n",
    "This is the 4th line."
   ]
  },
  {
   "cell_type": "code",
   "execution_count": 3,
   "id": "41ba1413",
   "metadata": {},
   "outputs": [],
   "source": [
    "# Open your text file on the same directory\n",
    "'''\n",
    "Make sure you are not misspelling or entering wrong path.\n",
    "This one here is an example of mistake.\n",
    "'''\n",
    "myfile = open('test.txt') \n",
    "\n",
    "# or\n",
    "\n",
    "# myfile2 = open('..\\\\test.txt')"
   ]
  },
  {
   "cell_type": "code",
   "execution_count": 4,
   "id": "7c41f479",
   "metadata": {},
   "outputs": [
    {
     "data": {
      "text/plain": [
       "<_io.TextIOWrapper name='test.txt' mode='r' encoding='cp1252'>"
      ]
     },
     "execution_count": 4,
     "metadata": {},
     "output_type": "execute_result"
    }
   ],
   "source": [
    "myfile"
   ]
  },
  {
   "cell_type": "markdown",
   "id": "79d26a18",
   "metadata": {},
   "source": [
    "#### .read()\n",
    ".read() is a function to read text line-by-line with breakline syntax (\\n). This operation can\n",
    "only be used once per text file. Because, after calling read once the cursor moves to the\n",
    "last point of the text and when called again, it shows empty as there is literally nothing\n",
    "to read after the last point of the cursor. Here is the example:\n"
   ]
  },
  {
   "cell_type": "code",
   "execution_count": 5,
   "id": "437bbf0a",
   "metadata": {},
   "outputs": [
    {
     "data": {
      "text/plain": [
       "'Hello world, my name is Mubashir.\\nThis is my part 2 of working with text.\\nI hope to learn more.\\nThis is the 4th line.\\n'"
      ]
     },
     "execution_count": 5,
     "metadata": {},
     "output_type": "execute_result"
    }
   ],
   "source": [
    "myfile.read() # Here is the first time use of .read()"
   ]
  },
  {
   "cell_type": "code",
   "execution_count": 6,
   "id": "9781223d",
   "metadata": {},
   "outputs": [
    {
     "data": {
      "text/plain": [
       "''"
      ]
     },
     "execution_count": 6,
     "metadata": {},
     "output_type": "execute_result"
    }
   ],
   "source": [
    "# Here is the second time use of .read().\n",
    "myfile.read() # Empty because the cursor is in the end point"
   ]
  },
  {
   "cell_type": "code",
   "execution_count": 7,
   "id": "f1b94cf6",
   "metadata": {},
   "outputs": [
    {
     "data": {
      "text/plain": [
       "0"
      ]
     },
     "execution_count": 7,
     "metadata": {},
     "output_type": "execute_result"
    }
   ],
   "source": [
    "# To reset the cursor to the starting point of the text\n",
    "myfile.seek(0) "
   ]
  },
  {
   "cell_type": "code",
   "execution_count": 8,
   "id": "c94a4e15",
   "metadata": {},
   "outputs": [
    {
     "data": {
      "text/plain": [
       "'Hello world, my name is Mubashir.\\nThis is my part 2 of working with text.\\nI hope to learn more.\\nThis is the 4th line.\\n'"
      ]
     },
     "execution_count": 8,
     "metadata": {},
     "output_type": "execute_result"
    }
   ],
   "source": [
    "# Again reading the file after reseting the cursor.\n",
    "myfile.read()"
   ]
  },
  {
   "cell_type": "code",
   "execution_count": 9,
   "id": "ee9e1353",
   "metadata": {},
   "outputs": [
    {
     "name": "stdout",
     "output_type": "stream",
     "text": [
      "Actual string inside `content` variable:\n"
     ]
    },
    {
     "data": {
      "text/plain": [
       "'Hello world, my name is Mubashir.\\nThis is my part 2 of working with text.\\nI hope to learn more.\\nThis is the 4th line.\\n'"
      ]
     },
     "execution_count": 9,
     "metadata": {},
     "output_type": "execute_result"
    }
   ],
   "source": [
    "# Save the text into a string\n",
    "myfile.seek(0)\n",
    "content = myfile.read()\n",
    "print('Actual string inside `content` variable:')\n",
    "content"
   ]
  },
  {
   "cell_type": "code",
   "execution_count": 10,
   "id": "090999d2",
   "metadata": {},
   "outputs": [
    {
     "name": "stdout",
     "output_type": "stream",
     "text": [
      "The text `content` holds:\n",
      "\n",
      "Hello world, my name is Mubashir.\n",
      "This is my part 2 of working with text.\n",
      "I hope to learn more.\n",
      "This is the 4th line.\n",
      "\n"
     ]
    }
   ],
   "source": [
    "print(f'The text `content` holds:\\n\\n{content}')"
   ]
  },
  {
   "cell_type": "code",
   "execution_count": 11,
   "id": "9ff67eff",
   "metadata": {},
   "outputs": [],
   "source": [
    "# REMEMBER TO CLOSE THE FILES YOU OPENED\n",
    "myfile.close()"
   ]
  },
  {
   "cell_type": "markdown",
   "id": "625c9fb4",
   "metadata": {},
   "source": [
    "#### .readlines() for reading each lines and creating list object"
   ]
  },
  {
   "cell_type": "code",
   "execution_count": 12,
   "id": "5f1b4dcb",
   "metadata": {},
   "outputs": [
    {
     "name": "stdout",
     "output_type": "stream",
     "text": [
      "['Hello world, my name is Mubashir.\\n', 'This is my part 2 of working with text.\\n', 'I hope to learn more.\\n', 'This is the 4th line.\\n']\n"
     ]
    }
   ],
   "source": [
    "myfile = open('test.txt')\n",
    "mylines = myfile.readlines()\n",
    "print(mylines)"
   ]
  },
  {
   "cell_type": "code",
   "execution_count": 13,
   "id": "b40209ef",
   "metadata": {},
   "outputs": [
    {
     "name": "stdout",
     "output_type": "stream",
     "text": [
      "Hello world, my name is Mubashir.\n",
      "\n",
      "This is my part 2 of working with text.\n",
      "\n",
      "I hope to learn more.\n",
      "\n",
      "This is the 4th line.\n",
      "\n"
     ]
    }
   ],
   "source": [
    "for line in mylines:\n",
    "    print(line)"
   ]
  },
  {
   "cell_type": "code",
   "execution_count": 18,
   "id": "c5c92d68",
   "metadata": {},
   "outputs": [
    {
     "name": "stdout",
     "output_type": "stream",
     "text": [
      "Hello\n",
      "This\n",
      "I\n",
      "This\n"
     ]
    }
   ],
   "source": [
    "for line in mylines:\n",
    "    print(line.split()[0])"
   ]
  },
  {
   "cell_type": "code",
   "execution_count": 14,
   "id": "03f081c2",
   "metadata": {},
   "outputs": [
    {
     "name": "stdout",
     "output_type": "stream",
     "text": [
      "['Hello', 'world,', 'my', 'name', 'is', 'Mubashir.']\n",
      "First and last word of the line : ('Hello', 'Mubashir.')\n",
      "\n",
      "['This', 'is', 'my', 'part', '2', 'of', 'working', 'with', 'text.']\n",
      "First and last word of the line : ('This', 'text.')\n",
      "\n",
      "['I', 'hope', 'to', 'learn', 'more.']\n",
      "First and last word of the line : ('I', 'more.')\n",
      "\n",
      "['This', 'is', 'the', '4th', 'line.']\n",
      "First and last word of the line : ('This', 'line.')\n",
      "\n"
     ]
    }
   ],
   "source": [
    "for line in mylines:\n",
    "    words = line.split()\n",
    "    print(words)\n",
    "    print(f'First and last word of the line : {words[0],words[-1]}\\n')"
   ]
  },
  {
   "cell_type": "code",
   "execution_count": 20,
   "id": "f473856d",
   "metadata": {},
   "outputs": [],
   "source": [
    "\"\"\" use w+ with cautions! It performs turncation \n",
    "on the original file, meaning it overwrites the original \n",
    "file completely with new.\"\"\"\n",
    "myfile = open('test2.txt', 'w+') # allows us read and write"
   ]
  },
  {
   "cell_type": "code",
   "execution_count": 21,
   "id": "3218a115",
   "metadata": {},
   "outputs": [
    {
     "data": {
      "text/plain": [
       "''"
      ]
     },
     "execution_count": 21,
     "metadata": {},
     "output_type": "execute_result"
    }
   ],
   "source": [
    "# you will notice it will start from blank even if the file was not empty\n",
    "myfile.read() # RIght after using w+ it completely overwrites the file"
   ]
  },
  {
   "cell_type": "code",
   "execution_count": null,
   "id": "6f37ce21",
   "metadata": {},
   "outputs": [],
   "source": []
  },
  {
   "cell_type": "code",
   "execution_count": null,
   "id": "b35a0fc1",
   "metadata": {},
   "outputs": [],
   "source": []
  },
  {
   "cell_type": "code",
   "execution_count": 15,
   "id": "e16c4d6b",
   "metadata": {},
   "outputs": [
    {
     "name": "stdout",
     "output_type": "stream",
     "text": [
      "['Hello world, my name is Mubashir.\\n', 'This is my part 2 of working with text.\\n', 'I hope to learn more.\\n', 'This is the 4th line.\\n']\n"
     ]
    }
   ],
   "source": [
    "# Using context manager for file open-close safety.\n",
    "with open('test.txt', mode='a+') as myfile:\n",
    "    cursor = myfile.seek(0)\n",
    "    myfile.write(f'\\nThe cursor in the beginning is at point `{cursor}`')\n",
    "    string = myfile.readlines()\n",
    "    print(string)"
   ]
  },
  {
   "cell_type": "code",
   "execution_count": 16,
   "id": "90533aa5",
   "metadata": {},
   "outputs": [
    {
     "name": "stdout",
     "output_type": "stream",
     "text": [
      "Hello world, my name is Mubashir.\n",
      "\n",
      "This is my part 2 of working with text.\n",
      "\n",
      "I hope to learn more.\n",
      "\n",
      "This is the 4th line.\n",
      "\n"
     ]
    }
   ],
   "source": [
    "for line in string:\n",
    "    print(line)"
   ]
  },
  {
   "cell_type": "code",
   "execution_count": null,
   "id": "75eaf6c4",
   "metadata": {},
   "outputs": [],
   "source": []
  },
  {
   "cell_type": "code",
   "execution_count": null,
   "id": "c34aed94",
   "metadata": {},
   "outputs": [],
   "source": []
  },
  {
   "cell_type": "code",
   "execution_count": null,
   "id": "a2f47ae9",
   "metadata": {},
   "outputs": [],
   "source": []
  },
  {
   "cell_type": "code",
   "execution_count": null,
   "id": "506c8f1f",
   "metadata": {},
   "outputs": [],
   "source": []
  },
  {
   "cell_type": "code",
   "execution_count": null,
   "id": "e3c632be",
   "metadata": {},
   "outputs": [],
   "source": []
  },
  {
   "cell_type": "code",
   "execution_count": null,
   "id": "e6dff770",
   "metadata": {},
   "outputs": [],
   "source": []
  },
  {
   "cell_type": "code",
   "execution_count": null,
   "id": "76bd2668",
   "metadata": {},
   "outputs": [],
   "source": []
  },
  {
   "cell_type": "code",
   "execution_count": null,
   "id": "c5812372",
   "metadata": {},
   "outputs": [],
   "source": []
  }
 ],
 "metadata": {
  "kernelspec": {
   "display_name": "NLP GPU",
   "language": "python",
   "name": "nlp"
  },
  "language_info": {
   "codemirror_mode": {
    "name": "ipython",
    "version": 3
   },
   "file_extension": ".py",
   "mimetype": "text/x-python",
   "name": "python",
   "nbconvert_exporter": "python",
   "pygments_lexer": "ipython3",
   "version": "3.9.20"
  }
 },
 "nbformat": 4,
 "nbformat_minor": 5
}
