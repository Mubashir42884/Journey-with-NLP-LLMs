{
 "cells": [
  {
   "cell_type": "markdown",
   "id": "d5e36a43",
   "metadata": {},
   "source": [
    "### NLP Notebook 01 - Part 1: Playing with \"f-strings\""
   ]
  },
  {
   "cell_type": "code",
   "execution_count": 1,
   "id": "fc65888c",
   "metadata": {},
   "outputs": [
    {
     "name": "stdout",
     "output_type": "stream",
     "text": [
      "Hello, my name is Mubashir\n"
     ]
    }
   ],
   "source": [
    "# Older Python Version use of format strings (f-strings)\n",
    "name = \"Mubashir\"\n",
    "print(\"Hello, my name is {}\".format(name))"
   ]
  },
  {
   "cell_type": "code",
   "execution_count": 2,
   "id": "09359add",
   "metadata": {},
   "outputs": [
    {
     "name": "stdout",
     "output_type": "stream",
     "text": [
      "Hello, my name is Mubashir\n"
     ]
    }
   ],
   "source": [
    "# Newer Python Version (>3.7) use of format strings (f-strings)\n",
    "name = \"Mubashir\"\n",
    "print(f\"Hello, my name is {name}\")"
   ]
  },
  {
   "cell_type": "code",
   "execution_count": 3,
   "id": "63e1c62f",
   "metadata": {},
   "outputs": [
    {
     "name": "stdout",
     "output_type": "stream",
     "text": [
      "The number of `a` is 1234\n",
      "The number of `b` is 5678\n",
      "The number of `c` is 9012\n"
     ]
    }
   ],
   "source": [
    "# Using Python dictionary\n",
    "dic = {'a':1234, 'b':5678, 'c':9012}\n",
    "print(f\"The number of `a` is {dic['a']}\")\n",
    "print(f\"The number of `b` is {dic['b']}\")\n",
    "print(f\"The number of `c` is {dic['c']}\")"
   ]
  },
  {
   "cell_type": "code",
   "execution_count": 4,
   "id": "fe4d9478",
   "metadata": {},
   "outputs": [
    {
     "name": "stdout",
     "output_type": "stream",
     "text": [
      "The number of index `0` is 50\n",
      "The number of index `4` is 14\n",
      "The number of index `7` is 67\n"
     ]
    }
   ],
   "source": [
    "# Using Python list\n",
    "lis = [50,21,92,33,14,45,76,67,98,89]\n",
    "print(f\"The number of index `0` is {lis[0]}\")\n",
    "print(f\"The number of index `4` is {lis[4]}\")\n",
    "print(f\"The number of index `7` is {lis[7]}\")"
   ]
  },
  {
   "cell_type": "code",
   "execution_count": 5,
   "id": "efc0f7ee",
   "metadata": {},
   "outputs": [
    {
     "data": {
      "text/plain": [
       "[('Name', 'Category', 'Year', 'Price', 'Currency'),\n",
       " ('Alan Wright', 'Mythology', '2022', '45.67', 'CAD'),\n",
       " ('Quing Zhao', 'Mathematics', '2011', '79.99', 'USD'),\n",
       " ('Archana Basu', 'Linguistics', '2008', '225.50', 'INR')]"
      ]
     },
     "execution_count": 5,
     "metadata": {},
     "output_type": "execute_result"
    }
   ],
   "source": [
    "# Using Python tuples\n",
    "tup = [\n",
    "    ('Name', 'Category', 'Year', 'Price', 'Currency'),\n",
    "    ('Alan Wright', 'Mythology', '2022', '45.67', 'CAD'),\n",
    "    ('Quing Zhao', 'Mathematics', '2011', '79.99', 'USD'),\n",
    "    ('Archana Basu', 'Linguistics', '2008', '225.50', 'INR'),\n",
    "]\n",
    "tup"
   ]
  },
  {
   "cell_type": "code",
   "execution_count": 6,
   "id": "54e7796a",
   "metadata": {},
   "outputs": [
    {
     "name": "stdout",
     "output_type": "stream",
     "text": [
      "('Name', 'Category', 'Year', 'Price', 'Currency')\n",
      "('Alan Wright', 'Mythology', '2022', '45.67', 'CAD')\n",
      "('Quing Zhao', 'Mathematics', '2011', '79.99', 'USD')\n",
      "('Archana Basu', 'Linguistics', '2008', '225.50', 'INR')\n"
     ]
    }
   ],
   "source": [
    "for book in tup:\n",
    "    print(book)"
   ]
  },
  {
   "cell_type": "code",
   "execution_count": 7,
   "id": "74ce364c",
   "metadata": {},
   "outputs": [
    {
     "name": "stdout",
     "output_type": "stream",
     "text": [
      "Author Name is: Name\n",
      "Author Name is: Alan Wright\n",
      "Author Name is: Quing Zhao\n",
      "Author Name is: Archana Basu\n"
     ]
    }
   ],
   "source": [
    "for book in tup:\n",
    "    print(f\"Author Name is: {book[0]}\")"
   ]
  },
  {
   "cell_type": "code",
   "execution_count": 8,
   "id": "0d61182b",
   "metadata": {},
   "outputs": [
    {
     "name": "stdout",
     "output_type": "stream",
     "text": [
      "Author:Name \tBook:Category \tPublished:Year \t Price:Price \t Currency:Currency\n",
      "Author:Alan Wright \tBook:Mythology \tPublished:2022 \t Price:45.67 \t Currency:CAD\n",
      "Author:Quing Zhao \tBook:Mathematics \tPublished:2011 \t Price:79.99 \t Currency:USD\n",
      "Author:Archana Basu \tBook:Linguistics \tPublished:2008 \t Price:225.50 \t Currency:INR\n"
     ]
    }
   ],
   "source": [
    "for author, category, year, price, currency in tup:\n",
    "    print(f\"Author:{author} \\tBook:{category} \\tPublished:{year} \\t Price:{price} \\t Currency:{currency}\")"
   ]
  },
  {
   "cell_type": "code",
   "execution_count": 9,
   "id": "bff865b5",
   "metadata": {},
   "outputs": [
    {
     "name": "stdout",
     "output_type": "stream",
     "text": [
      "Name                 Category             Year       -----Price Currency\n",
      "Alan Wright          Mythology            2022       -----45.67 CAD\n",
      "Quing Zhao           Mathematics          2011       -----79.99 USD\n",
      "Archana Basu         Linguistics          2008       ----225.50 INR\n"
     ]
    }
   ],
   "source": [
    "for author, category, year, price, curr in tup:\n",
    "    print(f\"{author:{20}} {category:{20}} {year:{10}} {price:->{10}} {curr}\")"
   ]
  },
  {
   "cell_type": "markdown",
   "id": "ca82a4d5",
   "metadata": {},
   "source": [
    "#### Date-Time Formatting (Using strf time format of Python)"
   ]
  },
  {
   "cell_type": "code",
   "execution_count": 11,
   "id": "4888ed1f",
   "metadata": {},
   "outputs": [
    {
     "name": "stdout",
     "output_type": "stream",
     "text": [
      "Code\t\tExample\t\tDescription\n",
      "%a\t\tSun\t\tWeekday as locale's abbreviated name.\n",
      "%A\t\tSunday\t\tWeekday as locale's full name.\n",
      "%w\t\t0\t\tWeekday as a decimal number, where 0 is Sunday and 6 is Saturday.\n",
      "%d\t\t08\t\tDay of the month as a zero-padded decimal number.\n",
      "%-d\t\t8\t\tDay of the month as a decimal number. (Platform specific)\n",
      "%b\t\tSep\t\tMonth as locale's abbreviated name.\n",
      "%B\t\tSeptember\tMonth as locale's full name.\n",
      "%m\t\t09\t\tMonth as a zero-padded decimal number.\n",
      "%-m\t\t9\t\tMonth as a decimal number. (Platform specific)\n",
      "%y\t\t13\t\tYear without century as a zero-padded decimal number.\n",
      "%Y\t\t2013\t\tYear with century as a decimal number.\n",
      "%H\t\t07\t\tHour (24-hour clock) as a zero-padded decimal number.\n",
      "%-H\t\t7\t\tHour (24-hour clock) as a decimal number. (Platform specific)\n",
      "%I\t\t07\t\tHour (12-hour clock) as a zero-padded decimal number.\n",
      "%-I\t\t7\t\tHour (12-hour clock) as a decimal number. (Platform specific)\n",
      "%p\t\tAM\t\tLocale's equivalent of either AM or PM.\n",
      "%M\t\t06\t\tMinute as a zero-padded decimal number.\n",
      "%-M\t\t6\t\tMinute as a decimal number. (Platform specific)\n",
      "%S\t\t05\t\tSecond as a zero-padded decimal number.\n",
      "%-S\t\t5\t\tSecond as a decimal number. (Platform specific)\n",
      "%f\t\t000000\t\tMicrosecond as a decimal number, zero-padded to 6 digits.\n",
      "%z\t\t+0000\t\tUTC offset in the form Â±HHMM[SS[.ffffff]] (empty string if the object is naive).\n",
      "%Z\t\tUTC\t\tTime zone name (empty string if the object is naive).\n",
      "%j\t\t251\t\tDay of the year as a zero-padded decimal number.\n",
      "%-j\t\t251\t\tDay of the year as a decimal number. (Platform specific)\n",
      "%U\t\t36\t\tWeek number of the year (Sunday as the first day of the week) as a zero-padded decimal number. All days in a new year preceding the first Sunday are considered to be in week 0.\n",
      "%-U\t\t36\t\tWeek number of the year (Sunday as the first day of the week) as a decimal number. All days in a new year preceding the first Sunday are considered to be in week 0. (Platform specific)\n",
      "%W\t\t35\t\tWeek number of the year (Monday as the first day of the week) as a zero-padded decimal number. All days in a new year preceding the first Monday are considered to be in week 0.\n",
      "%-W\t\t35\t\tWeek number of the year (Monday as the first day of the week) as a decimal number. All days in a new year preceding the first Monday are considered to be in week 0. (Platform specific)\n",
      "%c\t\tSun Sep 8 07:06:05 2013\tLocale's appropriate date and time representation.\n",
      "%x\t\t09/08/13\tLocale's appropriate date representation.\n",
      "%X\t\t07:06:05\tLocale's appropriate time representation.\n",
      "%%\t\t%\t\tA literal '%' character."
     ]
    }
   ],
   "source": [
    "# Using 'readlines()' to read a file\n",
    "with open('strftime.txt', 'r') as file:\n",
    "    lines = file.readlines()\n",
    "    for line in lines:\n",
    "        print(line, end='')"
   ]
  },
  {
   "cell_type": "code",
   "execution_count": 12,
   "id": "cd223b59",
   "metadata": {},
   "outputs": [
    {
     "name": "stdout",
     "output_type": "stream",
     "text": [
      "My birthday is: 2000-10-12 12:54:12\n"
     ]
    }
   ],
   "source": [
    "# Date Formatting\n",
    "from datetime import datetime\n",
    "\n",
    "birthday = datetime(day=12,month=10,year=2000, hour=12, minute=54, second=12)\n",
    "print(f\"My birthday is: {birthday}\")"
   ]
  },
  {
   "cell_type": "code",
   "execution_count": 13,
   "id": "abe6fa82",
   "metadata": {},
   "outputs": [
    {
     "name": "stdout",
     "output_type": "stream",
     "text": [
      "My birthday is %c: Thu Oct 12 12:54:12 2000\n",
      "My birthday is %x: 10/12/00\n",
      "My birthday was on a %a: Thu\n",
      "My birthday was on a %A: Thursday\n",
      "My birthday is on the (%mth) 10th month of the year\n",
      "My birthday month is %b: Oct\n",
      "My birthday month is %B: October\n",
      "I was born in the (%ys) 00s\n",
      "My birthday year is %Y: 2000\n",
      "My birth-time is %X: 12:54:12\n",
      "My birth-time is %X %p: 12:54:12 PM\n",
      "My birth-time is: Hour(%H):12, Minute(%M):54, and Seconds(%S):12\n",
      "My Birthday is (%dth %B %Y): 12th October 2000\n",
      "My Birthtime is (%H:%M:%S %p %Z): 12:54:12 PM \n",
      "My Birthday's day of the year is (%j): 286\n"
     ]
    }
   ],
   "source": [
    "print(f\"My birthday is %c: {birthday:%c}\")\n",
    "print(f\"My birthday is %x: {birthday:%x}\")\n",
    "print(f\"My birthday was on a %a: {birthday:%a}\")\n",
    "print(f\"My birthday was on a %A: {birthday:%A}\")\n",
    "print(f\"My birthday is on the (%mth) {birthday:%mth} month of the year\")\n",
    "print(f\"My birthday month is %b: {birthday:%b}\")\n",
    "print(f\"My birthday month is %B: {birthday:%B}\")\n",
    "print(f\"I was born in the (%ys) {birthday:%ys}\")\n",
    "print(f\"My birthday year is %Y: {birthday:%Y}\")\n",
    "print(f\"My birth-time is %X: {birthday:%X}\")\n",
    "print(f\"My birth-time is %X %p: {birthday:%X %p}\")\n",
    "print(f\"My birth-time is: Hour(%H):{birthday:%H}, Minute(%M):{birthday:%M}, and Seconds(%S):{birthday:%S}\")\n",
    "print(f\"My Birthday is (%dth %B %Y): {birthday:%dth %B %Y}\")\n",
    "print(f\"My Birthtime is (%H:%M:%S %p %Z): {birthday:%H:%M:%S %p %Z}\")\n",
    "print(f\"My Birthday's day of the year is (%j): {birthday:%j}\")"
   ]
  }
 ],
 "metadata": {
  "kernelspec": {
   "display_name": "NLP GPU",
   "language": "python",
   "name": "nlp"
  },
  "language_info": {
   "codemirror_mode": {
    "name": "ipython",
    "version": 3
   },
   "file_extension": ".py",
   "mimetype": "text/x-python",
   "name": "python",
   "nbconvert_exporter": "python",
   "pygments_lexer": "ipython3",
   "version": "3.9.20"
  }
 },
 "nbformat": 4,
 "nbformat_minor": 5
}
