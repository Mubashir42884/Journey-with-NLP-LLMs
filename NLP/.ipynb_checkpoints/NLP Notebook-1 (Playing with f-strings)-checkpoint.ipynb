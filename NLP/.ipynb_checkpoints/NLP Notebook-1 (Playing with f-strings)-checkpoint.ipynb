{
 "cells": [
  {
   "cell_type": "markdown",
   "id": "d5e36a43",
   "metadata": {},
   "source": [
    "### NLP Notebook 01 - Part 1: Playing with \"f-strings\""
   ]
  },
  {
   "cell_type": "code",
   "execution_count": 1,
   "id": "fc65888c",
   "metadata": {},
   "outputs": [
    {
     "name": "stdout",
     "output_type": "stream",
     "text": [
      "Hello, my name is Mubashir\n"
     ]
    }
   ],
   "source": [
    "# Older Python Version use of format strings (f-strings)\n",
    "name = \"Mubashir\"\n",
    "print(\"Hello, my name is {}\".format(name))"
   ]
  },
  {
   "cell_type": "code",
   "execution_count": 2,
   "id": "09359add",
   "metadata": {},
   "outputs": [
    {
     "name": "stdout",
     "output_type": "stream",
     "text": [
      "Hello, my name is Mubashir\n"
     ]
    }
   ],
   "source": [
    "# Newer Python Version (>3.7) use of format strings (f-strings)\n",
    "name = \"Mubashir\"\n",
    "print(f\"Hello, my name is {name}\")"
   ]
  },
  {
   "cell_type": "code",
   "execution_count": 3,
   "id": "63e1c62f",
   "metadata": {},
   "outputs": [
    {
     "name": "stdout",
     "output_type": "stream",
     "text": [
      "The number of `a` is 1234\n",
      "The number of `b` is 5678\n",
      "The number of `c` is 9012\n"
     ]
    }
   ],
   "source": [
    "# Using Python dictionary\n",
    "dic = {'a':1234, 'b':5678, 'c':9012}\n",
    "print(f\"The number of `a` is {dic['a']}\")\n",
    "print(f\"The number of `b` is {dic['b']}\")\n",
    "print(f\"The number of `c` is {dic['c']}\")"
   ]
  },
  {
   "cell_type": "code",
   "execution_count": 4,
   "id": "fe4d9478",
   "metadata": {},
   "outputs": [
    {
     "name": "stdout",
     "output_type": "stream",
     "text": [
      "The number of index `0` is 50\n",
      "The number of index `4` is 14\n",
      "The number of index `7` is 67\n"
     ]
    }
   ],
   "source": [
    "# Using Python list\n",
    "lis = [50,21,92,33,14,45,76,67,98,89]\n",
    "print(f\"The number of index `0` is {lis[0]}\")\n",
    "print(f\"The number of index `4` is {lis[4]}\")\n",
    "print(f\"The number of index `7` is {lis[7]}\")"
   ]
  },
  {
   "cell_type": "code",
   "execution_count": 5,
   "id": "efc0f7ee",
   "metadata": {},
   "outputs": [
    {
     "name": "stdout",
     "output_type": "stream",
     "text": [
      "[('Name', 'Category', 'Year', 'Price'), ('Alan Wright', 'Mythology', '2022', '45.67 $CAD'), ('Quing Zhao', 'Mathematics', '2011', '79.99 $USD'), ('Archana Basu', 'Linguistics', '2008', '225.50 ₹INR')]\n"
     ]
    }
   ],
   "source": [
    "# Using Python tuples\n",
    "tup = [\n",
    "    ('Name', 'Category', 'Year', 'Price'),\n",
    "    ('Alan Wright', 'Mythology', '2022', '45.67 $CAD'),\n",
    "    ('Quing Zhao', 'Mathematics', '2011', '79.99 $USD'),\n",
    "    ('Archana Basu', 'Linguistics', '2008', '225.50 ₹INR'),\n",
    "]\n",
    "print(tup)"
   ]
  },
  {
   "cell_type": "code",
   "execution_count": 6,
   "id": "54e7796a",
   "metadata": {},
   "outputs": [
    {
     "name": "stdout",
     "output_type": "stream",
     "text": [
      "('Name', 'Category', 'Year', 'Price')\n",
      "('Alan Wright', 'Mythology', '2022', '45.67 $CAD')\n",
      "('Quing Zhao', 'Mathematics', '2011', '79.99 $USD')\n",
      "('Archana Basu', 'Linguistics', '2008', '225.50 ₹INR')\n"
     ]
    }
   ],
   "source": [
    "for book in tup:\n",
    "    print(book)"
   ]
  },
  {
   "cell_type": "code",
   "execution_count": 7,
   "id": "74ce364c",
   "metadata": {},
   "outputs": [
    {
     "name": "stdout",
     "output_type": "stream",
     "text": [
      "Author Names: Name\n",
      "Author Names: Alan Wright\n",
      "Author Names: Quing Zhao\n",
      "Author Names: Archana Basu\n"
     ]
    }
   ],
   "source": [
    "for book in tup:\n",
    "    print(f\"Author Names: {book[0]}\")"
   ]
  },
  {
   "cell_type": "code",
   "execution_count": 8,
   "id": "0d61182b",
   "metadata": {},
   "outputs": [
    {
     "name": "stdout",
     "output_type": "stream",
     "text": [
      "Author Name: Name \tBook Category: Category \tYear: Year \tPrice: Price\n",
      "Author Name: Alan Wright \tBook Category: Mythology \tYear: 2022 \tPrice: 45.67 $CAD\n",
      "Author Name: Quing Zhao \tBook Category: Mathematics \tYear: 2011 \tPrice: 79.99 $USD\n",
      "Author Name: Archana Basu \tBook Category: Linguistics \tYear: 2008 \tPrice: 225.50 ₹INR\n"
     ]
    }
   ],
   "source": [
    "for author, category, year, price in tup:\n",
    "    print(f\"Author Name: {author} \\tBook Category: {category} \\tYear: {year} \\tPrice: {price}\")"
   ]
  },
  {
   "cell_type": "code",
   "execution_count": 9,
   "id": "63061134",
   "metadata": {},
   "outputs": [
    {
     "name": "stdout",
     "output_type": "stream",
     "text": [
      "Author Name: Name       \tBook Category: Category   \tYear: Year       \tPrice: Price          \n",
      "Author Name: Alan Wright \tBook Category: Mythology  \tYear: 2022       \tPrice: 45.67 $CAD     \n",
      "Author Name: Quing Zhao \tBook Category: Mathematics \tYear: 2011       \tPrice: 79.99 $USD     \n",
      "Author Name: Archana Basu \tBook Category: Linguistics \tYear: 2008       \tPrice: 225.50 ₹INR    \n"
     ]
    }
   ],
   "source": [
    "# With f-string formating\n",
    "for author, category, year, price in tup:\n",
    "    print(f\"Author Name: {author:{10}} \\tBook Category: {category:{10}} \\tYear: {year:{10}} \\tPrice: {price:{15}}\")"
   ]
  },
  {
   "cell_type": "code",
   "execution_count": 10,
   "id": "49c2077a",
   "metadata": {},
   "outputs": [
    {
     "name": "stdout",
     "output_type": "stream",
     "text": [
      "Book info: Name, Category, Year       ...............Price\n",
      "Book info: Alan Wright, Mythology, 2022       ..........45.67 $CAD\n",
      "Book info: Quing Zhao, Mathematics, 2011       ..........79.99 $USD\n",
      "Book info: Archana Basu, Linguistics, 2008       .........225.50 ₹INR\n"
     ]
    }
   ],
   "source": [
    "for author, category, year, price in tup:\n",
    "    print(f\"Book info: {author}, {category}, {year:{10}} {price:.>{20}}\")"
   ]
  },
  {
   "cell_type": "markdown",
   "id": "ca82a4d5",
   "metadata": {},
   "source": [
    "#### Date-Time Formatting (Using strf time format of Python)"
   ]
  },
  {
   "cell_type": "code",
   "execution_count": 11,
   "id": "4888ed1f",
   "metadata": {},
   "outputs": [
    {
     "name": "stdout",
     "output_type": "stream",
     "text": [
      "Code\t\tExample\t\tDescription\n",
      "%a\t\tSun\t\tWeekday as locale's abbreviated name.\n",
      "%A\t\tSunday\t\tWeekday as locale's full name.\n",
      "%w\t\t0\t\tWeekday as a decimal number, where 0 is Sunday and 6 is Saturday.\n",
      "%d\t\t08\t\tDay of the month as a zero-padded decimal number.\n",
      "%-d\t\t8\t\tDay of the month as a decimal number. (Platform specific)\n",
      "%b\t\tSep\t\tMonth as locale's abbreviated name.\n",
      "%B\t\tSeptember\tMonth as locale's full name.\n",
      "%m\t\t09\t\tMonth as a zero-padded decimal number.\n",
      "%-m\t\t9\t\tMonth as a decimal number. (Platform specific)\n",
      "%y\t\t13\t\tYear without century as a zero-padded decimal number.\n",
      "%Y\t\t2013\t\tYear with century as a decimal number.\n",
      "%H\t\t07\t\tHour (24-hour clock) as a zero-padded decimal number.\n",
      "%-H\t\t7\t\tHour (24-hour clock) as a decimal number. (Platform specific)\n",
      "%I\t\t07\t\tHour (12-hour clock) as a zero-padded decimal number.\n",
      "%-I\t\t7\t\tHour (12-hour clock) as a decimal number. (Platform specific)\n",
      "%p\t\tAM\t\tLocale's equivalent of either AM or PM.\n",
      "%M\t\t06\t\tMinute as a zero-padded decimal number.\n",
      "%-M\t\t6\t\tMinute as a decimal number. (Platform specific)\n",
      "%S\t\t05\t\tSecond as a zero-padded decimal number.\n",
      "%-S\t\t5\t\tSecond as a decimal number. (Platform specific)\n",
      "%f\t\t000000\t\tMicrosecond as a decimal number, zero-padded to 6 digits.\n",
      "%z\t\t+0000\t\tUTC offset in the form Â±HHMM[SS[.ffffff]] (empty string if the object is naive).\n",
      "%Z\t\tUTC\t\tTime zone name (empty string if the object is naive).\n",
      "%j\t\t251\t\tDay of the year as a zero-padded decimal number.\n",
      "%-j\t\t251\t\tDay of the year as a decimal number. (Platform specific)\n",
      "%U\t\t36\t\tWeek number of the year (Sunday as the first day of the week) as a zero-padded decimal number. All days in a new year preceding the first Sunday are considered to be in week 0.\n",
      "%-U\t\t36\t\tWeek number of the year (Sunday as the first day of the week) as a decimal number. All days in a new year preceding the first Sunday are considered to be in week 0. (Platform specific)\n",
      "%W\t\t35\t\tWeek number of the year (Monday as the first day of the week) as a zero-padded decimal number. All days in a new year preceding the first Monday are considered to be in week 0.\n",
      "%-W\t\t35\t\tWeek number of the year (Monday as the first day of the week) as a decimal number. All days in a new year preceding the first Monday are considered to be in week 0. (Platform specific)\n",
      "%c\t\tSun Sep 8 07:06:05 2013\tLocale's appropriate date and time representation.\n",
      "%x\t\t09/08/13\tLocale's appropriate date representation.\n",
      "%X\t\t07:06:05\tLocale's appropriate time representation.\n",
      "%%\t\t%\t\tA literal '%' character."
     ]
    }
   ],
   "source": [
    "# Using 'readlines()' to read a file\n",
    "with open('strftime.txt', 'r') as file:\n",
    "    lines = file.readlines()\n",
    "    for line in lines:\n",
    "        print(line, end='')"
   ]
  },
  {
   "cell_type": "code",
   "execution_count": 12,
   "id": "cd223b59",
   "metadata": {},
   "outputs": [
    {
     "name": "stdout",
     "output_type": "stream",
     "text": [
      "My birthday is: 2000-10-12 12:54:12\n"
     ]
    }
   ],
   "source": [
    "# Date Formatting\n",
    "from datetime import datetime\n",
    "\n",
    "birthday = datetime(day=12,month=10,year=2000, hour=12, minute=54, second=12)\n",
    "print(f\"My birthday is: {birthday}\")"
   ]
  },
  {
   "cell_type": "code",
   "execution_count": 13,
   "id": "abe6fa82",
   "metadata": {},
   "outputs": [
    {
     "name": "stdout",
     "output_type": "stream",
     "text": [
      "My birthday is: Thu Oct 12 12:54:12 2000\n",
      "My birthday is: 10/12/00\n",
      "My birthday was on a: Thu\n",
      "My birthday was on a: Thursday\n",
      "My birthday is on the 10th month of the year\n",
      "My birthday month is: Oct\n",
      "My birthday month is: October\n",
      "I was born in the 00s\n",
      "My birthday year is: 2000\n",
      "My birth-time is: 12:54:12\n",
      "My birth-time is: 12:54:12 PM\n",
      "My birth-time is: Hour:12, Minute:54, and Seconds:12\n",
      "My Birthday is: 12th October 2000\n",
      "My Birthtime is: 12:54:12 PM \n",
      "My Birthday's day of the year is: 286\n"
     ]
    }
   ],
   "source": [
    "print(f\"My birthday is: {birthday:%c}\")\n",
    "print(f\"My birthday is: {birthday:%x}\")\n",
    "print(f\"My birthday was on a: {birthday:%a}\")\n",
    "print(f\"My birthday was on a: {birthday:%A}\")\n",
    "print(f\"My birthday is on the {birthday:%mth} month of the year\")\n",
    "print(f\"My birthday month is: {birthday:%b}\")\n",
    "print(f\"My birthday month is: {birthday:%B}\")\n",
    "print(f\"I was born in the {birthday:%ys}\")\n",
    "print(f\"My birthday year is: {birthday:%Y}\")\n",
    "print(f\"My birth-time is: {birthday:%X}\")\n",
    "print(f\"My birth-time is: {birthday:%X %p}\")\n",
    "print(f\"My birth-time is: Hour:{birthday:%H}, Minute:{birthday:%M}, and Seconds:{birthday:%S}\")\n",
    "print(f\"My Birthday is: {birthday:%dth %B %Y}\")\n",
    "print(f\"My Birthtime is: {birthday:%H:%M:%S %p %Z}\")\n",
    "print(f\"My Birthday's day of the year is: {birthday:%j}\")"
   ]
  },
  {
   "cell_type": "markdown",
   "id": "c3b8a45d",
   "metadata": {},
   "source": [
    "### NLP Notebook 01 - Part 2: Working with Text (.txt) files"
   ]
  },
  {
   "cell_type": "code",
   "execution_count": 14,
   "id": "bf6a6e5b",
   "metadata": {},
   "outputs": [],
   "source": [
    "# Creating and writing a text file. (Only for Jupyter Notebook)"
   ]
  },
  {
   "cell_type": "code",
   "execution_count": 15,
   "id": "6c7efb9c",
   "metadata": {},
   "outputs": [
    {
     "name": "stdout",
     "output_type": "stream",
     "text": [
      "Overwriting test.txt\n"
     ]
    }
   ],
   "source": [
    "%%writefile test.txt\n",
    "Hello world, my name is Mubashir.\n",
    "This is my part 2 of working with text.\n",
    "I hope to learn more.\n",
    "This is the 4th line."
   ]
  },
  {
   "cell_type": "code",
   "execution_count": 16,
   "id": "c2f527a1",
   "metadata": {},
   "outputs": [
    {
     "ename": "FileNotFoundError",
     "evalue": "[Errno 2] No such file or directory: 'text.txt'",
     "output_type": "error",
     "traceback": [
      "\u001b[1;31m---------------------------------------------------------------------------\u001b[0m",
      "\u001b[1;31mFileNotFoundError\u001b[0m                         Traceback (most recent call last)",
      "Cell \u001b[1;32mIn[16], line 6\u001b[0m\n\u001b[0;32m      1\u001b[0m \u001b[38;5;66;03m# Open your text file on the same directory\u001b[39;00m\n\u001b[0;32m      2\u001b[0m \u001b[38;5;124;03m'''\u001b[39;00m\n\u001b[0;32m      3\u001b[0m \u001b[38;5;124;03mMake sure you are not misspelling or entering wrong path.\u001b[39;00m\n\u001b[0;32m      4\u001b[0m \u001b[38;5;124;03mThis one here is an example of mistake.\u001b[39;00m\n\u001b[0;32m      5\u001b[0m \u001b[38;5;124;03m'''\u001b[39;00m\n\u001b[1;32m----> 6\u001b[0m myfile \u001b[38;5;241m=\u001b[39m \u001b[38;5;28;43mopen\u001b[39;49m\u001b[43m(\u001b[49m\u001b[38;5;124;43m'\u001b[39;49m\u001b[38;5;124;43mtext.txt\u001b[39;49m\u001b[38;5;124;43m'\u001b[39;49m\u001b[43m)\u001b[49m\n",
      "File \u001b[1;32mC:\\ProgramData\\Anaconda3\\envs\\NLP\\lib\\site-packages\\IPython\\core\\interactiveshell.py:286\u001b[0m, in \u001b[0;36m_modified_open\u001b[1;34m(file, *args, **kwargs)\u001b[0m\n\u001b[0;32m    279\u001b[0m \u001b[38;5;28;01mif\u001b[39;00m file \u001b[38;5;129;01min\u001b[39;00m {\u001b[38;5;241m0\u001b[39m, \u001b[38;5;241m1\u001b[39m, \u001b[38;5;241m2\u001b[39m}:\n\u001b[0;32m    280\u001b[0m     \u001b[38;5;28;01mraise\u001b[39;00m \u001b[38;5;167;01mValueError\u001b[39;00m(\n\u001b[0;32m    281\u001b[0m         \u001b[38;5;124mf\u001b[39m\u001b[38;5;124m\"\u001b[39m\u001b[38;5;124mIPython won\u001b[39m\u001b[38;5;124m'\u001b[39m\u001b[38;5;124mt let you open fd=\u001b[39m\u001b[38;5;132;01m{\u001b[39;00mfile\u001b[38;5;132;01m}\u001b[39;00m\u001b[38;5;124m by default \u001b[39m\u001b[38;5;124m\"\u001b[39m\n\u001b[0;32m    282\u001b[0m         \u001b[38;5;124m\"\u001b[39m\u001b[38;5;124mas it is likely to crash IPython. If you know what you are doing, \u001b[39m\u001b[38;5;124m\"\u001b[39m\n\u001b[0;32m    283\u001b[0m         \u001b[38;5;124m\"\u001b[39m\u001b[38;5;124myou can use builtins\u001b[39m\u001b[38;5;124m'\u001b[39m\u001b[38;5;124m open.\u001b[39m\u001b[38;5;124m\"\u001b[39m\n\u001b[0;32m    284\u001b[0m     )\n\u001b[1;32m--> 286\u001b[0m \u001b[38;5;28;01mreturn\u001b[39;00m io_open(file, \u001b[38;5;241m*\u001b[39margs, \u001b[38;5;241m*\u001b[39m\u001b[38;5;241m*\u001b[39mkwargs)\n",
      "\u001b[1;31mFileNotFoundError\u001b[0m: [Errno 2] No such file or directory: 'text.txt'"
     ]
    }
   ],
   "source": [
    "# Open your text file on the same directory\n",
    "'''\n",
    "Make sure you are not misspelling or entering wrong path.\n",
    "This one here is an example of mistake.\n",
    "'''\n",
    "myfile = open('text.txt') # or"
   ]
  },
  {
   "cell_type": "code",
   "execution_count": 17,
   "id": "b3d9fa4e",
   "metadata": {},
   "outputs": [
    {
     "ename": "FileNotFoundError",
     "evalue": "[Errno 2] No such file or directory: '..\\\\test.txt'",
     "output_type": "error",
     "traceback": [
      "\u001b[1;31m---------------------------------------------------------------------------\u001b[0m",
      "\u001b[1;31mFileNotFoundError\u001b[0m                         Traceback (most recent call last)",
      "Cell \u001b[1;32mIn[17], line 1\u001b[0m\n\u001b[1;32m----> 1\u001b[0m myfile2 \u001b[38;5;241m=\u001b[39m \u001b[38;5;28;43mopen\u001b[39;49m\u001b[43m(\u001b[49m\u001b[38;5;124;43m'\u001b[39;49m\u001b[38;5;124;43m..\u001b[39;49m\u001b[38;5;130;43;01m\\\\\u001b[39;49;00m\u001b[38;5;124;43mtest.txt\u001b[39;49m\u001b[38;5;124;43m'\u001b[39;49m\u001b[43m)\u001b[49m\n",
      "File \u001b[1;32mC:\\ProgramData\\Anaconda3\\envs\\NLP\\lib\\site-packages\\IPython\\core\\interactiveshell.py:286\u001b[0m, in \u001b[0;36m_modified_open\u001b[1;34m(file, *args, **kwargs)\u001b[0m\n\u001b[0;32m    279\u001b[0m \u001b[38;5;28;01mif\u001b[39;00m file \u001b[38;5;129;01min\u001b[39;00m {\u001b[38;5;241m0\u001b[39m, \u001b[38;5;241m1\u001b[39m, \u001b[38;5;241m2\u001b[39m}:\n\u001b[0;32m    280\u001b[0m     \u001b[38;5;28;01mraise\u001b[39;00m \u001b[38;5;167;01mValueError\u001b[39;00m(\n\u001b[0;32m    281\u001b[0m         \u001b[38;5;124mf\u001b[39m\u001b[38;5;124m\"\u001b[39m\u001b[38;5;124mIPython won\u001b[39m\u001b[38;5;124m'\u001b[39m\u001b[38;5;124mt let you open fd=\u001b[39m\u001b[38;5;132;01m{\u001b[39;00mfile\u001b[38;5;132;01m}\u001b[39;00m\u001b[38;5;124m by default \u001b[39m\u001b[38;5;124m\"\u001b[39m\n\u001b[0;32m    282\u001b[0m         \u001b[38;5;124m\"\u001b[39m\u001b[38;5;124mas it is likely to crash IPython. If you know what you are doing, \u001b[39m\u001b[38;5;124m\"\u001b[39m\n\u001b[0;32m    283\u001b[0m         \u001b[38;5;124m\"\u001b[39m\u001b[38;5;124myou can use builtins\u001b[39m\u001b[38;5;124m'\u001b[39m\u001b[38;5;124m open.\u001b[39m\u001b[38;5;124m\"\u001b[39m\n\u001b[0;32m    284\u001b[0m     )\n\u001b[1;32m--> 286\u001b[0m \u001b[38;5;28;01mreturn\u001b[39;00m io_open(file, \u001b[38;5;241m*\u001b[39margs, \u001b[38;5;241m*\u001b[39m\u001b[38;5;241m*\u001b[39mkwargs)\n",
      "\u001b[1;31mFileNotFoundError\u001b[0m: [Errno 2] No such file or directory: '..\\\\test.txt'"
     ]
    }
   ],
   "source": [
    "myfile2 = open('..\\\\test.txt')"
   ]
  },
  {
   "cell_type": "code",
   "execution_count": 18,
   "id": "3097a1f8",
   "metadata": {},
   "outputs": [],
   "source": [
    "# The right way\n",
    "myfile = open('test.txt')"
   ]
  },
  {
   "cell_type": "markdown",
   "id": "208f1715",
   "metadata": {},
   "source": [
    "#### Reading the text files"
   ]
  },
  {
   "cell_type": "code",
   "execution_count": 19,
   "id": "47d444d8",
   "metadata": {},
   "outputs": [
    {
     "data": {
      "text/plain": [
       "'Hello world, my name is Mubashir.\\nThis is my part 2 of working with text.\\nI hope to learn more.\\nThis is the 4th line.\\n'"
      ]
     },
     "execution_count": 19,
     "metadata": {},
     "output_type": "execute_result"
    }
   ],
   "source": [
    "'''\n",
    ".read() is a function to read text line-by-line with breakline syntax (\\n). This operation can\n",
    "only be used once per text file. Because, after calling read once the cursor moves to the\n",
    "last point of the text and when called again, it shows empty as there is literally nothing\n",
    "to read after the last point of the cursor. Here is the example:\n",
    "'''\n",
    "\n",
    "myfile.read() # Here is the first time use of .read()"
   ]
  },
  {
   "cell_type": "code",
   "execution_count": 20,
   "id": "a3a54b13",
   "metadata": {},
   "outputs": [
    {
     "data": {
      "text/plain": [
       "''"
      ]
     },
     "execution_count": 20,
     "metadata": {},
     "output_type": "execute_result"
    }
   ],
   "source": [
    "myfile.read() # Here is the second time use of .read(). Empty because the cursor is in the end point"
   ]
  },
  {
   "cell_type": "code",
   "execution_count": 21,
   "id": "5e78f7f4",
   "metadata": {},
   "outputs": [
    {
     "data": {
      "text/plain": [
       "0"
      ]
     },
     "execution_count": 21,
     "metadata": {},
     "output_type": "execute_result"
    }
   ],
   "source": [
    "myfile.seek(0) # To reset the cursor to the starting point of the text"
   ]
  },
  {
   "cell_type": "code",
   "execution_count": 22,
   "id": "bf35b3e3",
   "metadata": {},
   "outputs": [
    {
     "data": {
      "text/plain": [
       "'Hello world, my name is Mubashir.\\nThis is my part 2 of working with text.\\nI hope to learn more.\\nThis is the 4th line.\\n'"
      ]
     },
     "execution_count": 22,
     "metadata": {},
     "output_type": "execute_result"
    }
   ],
   "source": [
    "myfile.read() # Again reading the file after reseting the cursor."
   ]
  },
  {
   "cell_type": "code",
   "execution_count": 23,
   "id": "1b4774a3",
   "metadata": {},
   "outputs": [
    {
     "name": "stdout",
     "output_type": "stream",
     "text": [
      "Actual string inside `content` variable:\n"
     ]
    },
    {
     "data": {
      "text/plain": [
       "'Hello world, my name is Mubashir.\\nThis is my part 2 of working with text.\\nI hope to learn more.\\nThis is the 4th line.\\n'"
      ]
     },
     "execution_count": 23,
     "metadata": {},
     "output_type": "execute_result"
    }
   ],
   "source": [
    "# Save the text into a string\n",
    "myfile.seek(0)\n",
    "content = myfile.read()\n",
    "print('Actual string inside `content` variable:')\n",
    "content"
   ]
  },
  {
   "cell_type": "code",
   "execution_count": 24,
   "id": "48b50fa0",
   "metadata": {},
   "outputs": [
    {
     "name": "stdout",
     "output_type": "stream",
     "text": [
      "The text `content` holds:\n",
      "\n",
      "Hello world, my name is Mubashir.\n",
      "This is my part 2 of working with text.\n",
      "I hope to learn more.\n",
      "This is the 4th line.\n",
      "\n"
     ]
    }
   ],
   "source": [
    "print(f'The text `content` holds:\\n\\n{content}')"
   ]
  },
  {
   "cell_type": "code",
   "execution_count": 25,
   "id": "42db2158",
   "metadata": {},
   "outputs": [],
   "source": [
    "# REMEMBER TO CLOSE THE FILES YOU OPENED\n",
    "myfile.close()"
   ]
  },
  {
   "cell_type": "markdown",
   "id": "6b76a3af",
   "metadata": {},
   "source": [
    "##### .readlines() for reading each lines and creating list object"
   ]
  },
  {
   "cell_type": "code",
   "execution_count": 26,
   "id": "69d83291",
   "metadata": {},
   "outputs": [
    {
     "name": "stdout",
     "output_type": "stream",
     "text": [
      "['Hello world, my name is Mubashir.\\n', 'This is my part 2 of working with text.\\n', 'I hope to learn more.\\n', 'This is the 4th line.\\n']\n"
     ]
    }
   ],
   "source": [
    "myfile = open('test.txt')\n",
    "mylines = myfile.readlines()\n",
    "print(mylines)"
   ]
  },
  {
   "cell_type": "code",
   "execution_count": 27,
   "id": "21b635d7",
   "metadata": {},
   "outputs": [
    {
     "name": "stdout",
     "output_type": "stream",
     "text": [
      "Hello world, my name is Mubashir.\n",
      "\n",
      "This is my part 2 of working with text.\n",
      "\n",
      "I hope to learn more.\n",
      "\n",
      "This is the 4th line.\n",
      "\n"
     ]
    }
   ],
   "source": [
    "for line in mylines:\n",
    "    print(line)"
   ]
  },
  {
   "cell_type": "code",
   "execution_count": 28,
   "id": "dfeb9b4a",
   "metadata": {},
   "outputs": [
    {
     "name": "stdout",
     "output_type": "stream",
     "text": [
      "['Hello', 'world,', 'my', 'name', 'is', 'Mubashir.']\n",
      "First and last word of the line : ('Hello', 'Mubashir.')\n",
      "\n",
      "['This', 'is', 'my', 'part', '2', 'of', 'working', 'with', 'text.']\n",
      "First and last word of the line : ('This', 'text.')\n",
      "\n",
      "['I', 'hope', 'to', 'learn', 'more.']\n",
      "First and last word of the line : ('I', 'more.')\n",
      "\n",
      "['This', 'is', 'the', '4th', 'line.']\n",
      "First and last word of the line : ('This', 'line.')\n",
      "\n"
     ]
    }
   ],
   "source": [
    "for line in mylines:\n",
    "    words = line.split()\n",
    "    print(words)\n",
    "    print(f'First and last word of the line : {words[0],words[-1]}\\n')"
   ]
  },
  {
   "cell_type": "code",
   "execution_count": 31,
   "id": "2a5e2f8a",
   "metadata": {},
   "outputs": [
    {
     "name": "stdout",
     "output_type": "stream",
     "text": [
      "['Hello world, my name is Mubashir.\\n', 'This is my part 2 of working with text.\\n', 'I hope to learn more.\\n', 'This is the 4th line.\\n', '\\n', 'The cursor in the beginning is at point `0`']\n"
     ]
    }
   ],
   "source": [
    "# Using context manager for file open-close safety.\n",
    "with open('test.txt', mode='a+') as myfile:\n",
    "    cursor = myfile.seek(0)\n",
    "    myfile.write(f'\\nThe cursor in the beginning is at point `{cursor}`')\n",
    "    string = myfile.readlines()\n",
    "    print(string)"
   ]
  },
  {
   "cell_type": "code",
   "execution_count": 32,
   "id": "4406f150",
   "metadata": {},
   "outputs": [
    {
     "name": "stdout",
     "output_type": "stream",
     "text": [
      "Hello world, my name is Mubashir.\n",
      "\n",
      "This is my part 2 of working with text.\n",
      "\n",
      "I hope to learn more.\n",
      "\n",
      "This is the 4th line.\n",
      "\n",
      "\n",
      "\n",
      "The cursor in the beginning is at point `0`\n"
     ]
    }
   ],
   "source": [
    "for line in string:\n",
    "    print(line)"
   ]
  },
  {
   "cell_type": "code",
   "execution_count": null,
   "id": "58f86edc",
   "metadata": {},
   "outputs": [],
   "source": []
  }
 ],
 "metadata": {
  "kernelspec": {
   "display_name": "NLP GPU",
   "language": "python",
   "name": "nlp"
  },
  "language_info": {
   "codemirror_mode": {
    "name": "ipython",
    "version": 3
   },
   "file_extension": ".py",
   "mimetype": "text/x-python",
   "name": "python",
   "nbconvert_exporter": "python",
   "pygments_lexer": "ipython3",
   "version": "3.9.20"
  }
 },
 "nbformat": 4,
 "nbformat_minor": 5
}
